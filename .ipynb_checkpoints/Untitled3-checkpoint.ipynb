{
 "cells": [
  {
   "cell_type": "code",
   "execution_count": 1,
   "metadata": {},
   "outputs": [
    {
     "name": "stderr",
     "output_type": "stream",
     "text": [
      "/home/scarab6/.local/lib/python2.7/site-packages/requests/__init__.py:83: RequestsDependencyWarning: Old version of cryptography ([1, 2, 3]) may cause slowdown.\n",
      "  warnings.warn(warning, RequestsDependencyWarning)\n"
     ]
    },
    {
     "name": "stdout",
     "output_type": "stream",
     "text": [
      "INFO:tensorflow:Model using gpu.\n",
      "WARNING:tensorflow:From /home/scarab6/.local/lib/python2.7/site-packages/tensorflow/python/framework/op_def_library.py:263: colocate_with (from tensorflow.python.framework.ops) is deprecated and will be removed in a future version.\n",
      "Instructions for updating:\n",
      "Colocations handled automatically by placer.\n",
      "WARNING:tensorflow:From gqcnn_network.py:98: calling dropout (from tensorflow.python.ops.nn_ops) with keep_prob is deprecated and will be removed in a future version.\n",
      "Instructions for updating:\n",
      "Please use `rate` instead of `keep_prob`. Rate should be set to `rate = 1 - keep_prob`.\n",
      "(16,)\n",
      "(9, 9, 1, 16)\n",
      "(16,)\n",
      "(5, 5, 16, 16)\n",
      "(16,)\n",
      "(5, 5, 16, 16)\n",
      "(16,)\n",
      "(5, 5, 16, 16)\n",
      "(64,)\n",
      "(4624, 64)\n",
      "(64,)\n",
      "(64, 64)\n",
      "(16, 64)\n",
      "(2,)\n",
      "(64, 2)\n",
      "(16,)\n",
      "(1, 16)\n",
      "<tf.Variable 'im_stream/conv1_1/conv1_1_bias:0' shape=(16,) dtype=float32_ref>\n",
      "<tf.Variable 'im_stream/conv1_1/conv1_1_weights:0' shape=(9, 9, 1, 16) dtype=float32_ref>\n",
      "<tf.Variable 'im_stream/conv1_2/conv1_2_bias:0' shape=(16,) dtype=float32_ref>\n",
      "<tf.Variable 'im_stream/conv1_2/conv1_2_weights:0' shape=(5, 5, 16, 16) dtype=float32_ref>\n",
      "<tf.Variable 'im_stream/conv2_1/conv2_1_bias:0' shape=(16,) dtype=float32_ref>\n",
      "<tf.Variable 'im_stream/conv2_1/conv2_1_weights:0' shape=(5, 5, 16, 16) dtype=float32_ref>\n",
      "<tf.Variable 'im_stream/conv2_2/conv2_2_bias:0' shape=(16,) dtype=float32_ref>\n",
      "<tf.Variable 'im_stream/conv2_2/conv2_2_weights:0' shape=(5, 5, 16, 16) dtype=float32_ref>\n",
      "<tf.Variable 'im_stream/fc3_bias:0' shape=(64,) dtype=float32_ref>\n",
      "<tf.Variable 'im_stream/fc3_weights:0' shape=(4624, 64) dtype=float32_ref>\n",
      "<tf.Variable 'merge_stream/fc4_bias:0' shape=(64,) dtype=float32_ref>\n",
      "<tf.Variable 'merge_stream/fc4_input_1_weights:0' shape=(64, 64) dtype=float32_ref>\n",
      "<tf.Variable 'merge_stream/fc4_input_2_weights:0' shape=(16, 64) dtype=float32_ref>\n",
      "<tf.Variable 'merge_stream/fc5_bias:0' shape=(2,) dtype=float32_ref>\n",
      "<tf.Variable 'merge_stream/fc5_weights:0' shape=(64, 2) dtype=float32_ref>\n",
      "<tf.Variable 'pose_stream/pc1_bias:0' shape=(16,) dtype=float32_ref>\n",
      "<tf.Variable 'pose_stream/pc1_weights:0' shape=(1, 16) dtype=float32_ref>\n"
     ]
    }
   ],
   "source": [
    "import numpy as np\n",
    "import json\n",
    "from gqcnn_network import GQCNN, reset_graph\n",
    "from gqcnn_train import TensorDataset, error_rate_in_batches\n",
    "gqcnn = GQCNN(is_training=False, reuse=True, gpu_mode=True)\n",
    "gqcnn.save_model()\n",
    "\n",
    "with open(\"tf_gqcnn/gqcnn_full.json\", 'r') as f:\n",
    "    params = json.load(f)\n",
    "    \n",
    "for p in params:\n",
    "    p = np.array(p)\n",
    "    print(p.shape)\n",
    "    \n",
    "gqcnn.load_json(\"tf_gqcnn/gqcnn_full.json\")"
   ]
  },
  {
   "cell_type": "code",
   "execution_count": 2,
   "metadata": {},
   "outputs": [
    {
     "name": "stdout",
     "output_type": "stream",
     "text": [
      "('tf_depth_ims file is loaded', 173)\n",
      "('grasps file is loaded', 173)\n",
      "('grasp_metrics file is loaded', 173)\n",
      "1142\n",
      "1111\n",
      "2307\n",
      "2338\n",
      "(3208, 3449)\n"
     ]
    }
   ],
   "source": [
    "DATA_DIR = \"/home/scarab6/Desktop/gqcnn/data/training/example_pj\"\n",
    "dataset = TensorDataset(DATA_DIR)\n",
    "true, total = error_rate_in_batches(gqcnn, dataset, validation_set=True)\n",
    "print(true, total)"
   ]
  },
  {
   "cell_type": "code",
   "execution_count": 3,
   "metadata": {},
   "outputs": [
    {
     "name": "stdout",
     "output_type": "stream",
     "text": [
      "0.0698753261815\n"
     ]
    }
   ],
   "source": [
    "print(1 - float(true) / total)"
   ]
  }
 ],
 "metadata": {
  "kernelspec": {
   "display_name": "Python 2",
   "language": "python",
   "name": "python2"
  },
  "language_info": {
   "codemirror_mode": {
    "name": "ipython",
    "version": 2
   },
   "file_extension": ".py",
   "mimetype": "text/x-python",
   "name": "python",
   "nbconvert_exporter": "python",
   "pygments_lexer": "ipython2",
   "version": "2.7.12"
  }
 },
 "nbformat": 4,
 "nbformat_minor": 2
}
