{
 "cells": [
  {
   "cell_type": "code",
   "execution_count": 1,
   "metadata": {},
   "outputs": [
    {
<<<<<<< HEAD
     "name": "stderr",
     "output_type": "stream",
     "text": [
      "/home/scarab6/.local/lib/python2.7/site-packages/requests/__init__.py:83: RequestsDependencyWarning: Old version of cryptography ([1, 2, 3]) may cause slowdown.\n",
      "  warnings.warn(warning, RequestsDependencyWarning)\n"
     ]
    },
    {
     "name": "stdout",
     "output_type": "stream",
     "text": [
      "INFO:tensorflow:Model using gpu.\n",
      "WARNING:tensorflow:From /home/scarab6/.local/lib/python2.7/site-packages/tensorflow/python/framework/op_def_library.py:263: colocate_with (from tensorflow.python.framework.ops) is deprecated and will be removed in a future version.\n",
      "Instructions for updating:\n",
      "Colocations handled automatically by placer.\n",
      "WARNING:tensorflow:From gqcnn_network.py:98: calling dropout (from tensorflow.python.ops.nn_ops) with keep_prob is deprecated and will be removed in a future version.\n",
      "Instructions for updating:\n",
      "Please use `rate` instead of `keep_prob`. Rate should be set to `rate = 1 - keep_prob`.\n",
      "(16,)\n",
      "(9, 9, 1, 16)\n",
      "(16,)\n",
      "(5, 5, 16, 16)\n",
      "(16,)\n",
      "(5, 5, 16, 16)\n",
      "(16,)\n",
      "(5, 5, 16, 16)\n",
      "(64,)\n",
      "(4624, 64)\n",
      "(64,)\n",
      "(64, 64)\n",
      "(16, 64)\n",
      "(2,)\n",
      "(64, 2)\n",
      "(16,)\n",
      "(1, 16)\n",
      "<tf.Variable 'im_stream/conv1_1/conv1_1_bias:0' shape=(16,) dtype=float32_ref>\n",
      "<tf.Variable 'im_stream/conv1_1/conv1_1_weights:0' shape=(9, 9, 1, 16) dtype=float32_ref>\n",
      "<tf.Variable 'im_stream/conv1_2/conv1_2_bias:0' shape=(16,) dtype=float32_ref>\n",
      "<tf.Variable 'im_stream/conv1_2/conv1_2_weights:0' shape=(5, 5, 16, 16) dtype=float32_ref>\n",
      "<tf.Variable 'im_stream/conv2_1/conv2_1_bias:0' shape=(16,) dtype=float32_ref>\n",
      "<tf.Variable 'im_stream/conv2_1/conv2_1_weights:0' shape=(5, 5, 16, 16) dtype=float32_ref>\n",
      "<tf.Variable 'im_stream/conv2_2/conv2_2_bias:0' shape=(16,) dtype=float32_ref>\n",
      "<tf.Variable 'im_stream/conv2_2/conv2_2_weights:0' shape=(5, 5, 16, 16) dtype=float32_ref>\n",
      "<tf.Variable 'im_stream/fc3_bias:0' shape=(64,) dtype=float32_ref>\n",
      "<tf.Variable 'im_stream/fc3_weights:0' shape=(4624, 64) dtype=float32_ref>\n",
      "<tf.Variable 'merge_stream/fc4_bias:0' shape=(64,) dtype=float32_ref>\n",
      "<tf.Variable 'merge_stream/fc4_input_1_weights:0' shape=(64, 64) dtype=float32_ref>\n",
      "<tf.Variable 'merge_stream/fc4_input_2_weights:0' shape=(16, 64) dtype=float32_ref>\n",
      "<tf.Variable 'merge_stream/fc5_bias:0' shape=(2,) dtype=float32_ref>\n",
      "<tf.Variable 'merge_stream/fc5_weights:0' shape=(64, 2) dtype=float32_ref>\n",
      "<tf.Variable 'pose_stream/pc1_bias:0' shape=(16,) dtype=float32_ref>\n",
      "<tf.Variable 'pose_stream/pc1_weights:0' shape=(1, 16) dtype=float32_ref>\n"
=======
     "name": "stdout",
     "output_type": "stream",
     "text": [
      "INFO:tensorflow:Model using gpu.\n"
     ]
    },
    {
     "name": "stderr",
     "output_type": "stream",
     "text": [
      "IOPub data rate exceeded.\n",
      "The notebook server will temporarily stop sending output\n",
      "to the client in order to avoid crashing it.\n",
      "To change this limit, set the config variable\n",
      "`--NotebookApp.iopub_data_rate_limit`.\n",
      "\n",
      "Current values:\n",
      "NotebookApp.iopub_data_rate_limit=1000000.0 (bytes/sec)\n",
      "NotebookApp.rate_limit_window=3.0 (secs)\n",
      "\n"
>>>>>>> d50452e82653da6fc8a059471974df4f57f72e37
     ]
    }
   ],
   "source": [
<<<<<<< HEAD
    "import numpy as np\n",
    "import json\n",
    "from gqcnn_network import GQCNN, reset_graph\n",
    "from gqcnn_train import TensorDataset, error_rate_in_batches\n",
    "gqcnn = GQCNN(is_training=False, reuse=True, gpu_mode=True)\n",
    "gqcnn.save_model()\n",
    "\n",
    "with open(\"tf_gqcnn/gqcnn_full.json\", 'r') as f:\n",
    "    params = json.load(f)\n",
    "    \n",
    "for p in params:\n",
    "    p = np.array(p)\n",
    "    print(p.shape)\n",
    "    \n",
    "gqcnn.load_json(\"tf_gqcnn/gqcnn_full.json\")"
   ]
  },
  {
   "cell_type": "code",
   "execution_count": 2,
   "metadata": {},
   "outputs": [
    {
     "name": "stdout",
     "output_type": "stream",
     "text": [
      "('tf_depth_ims file is loaded', 173)\n",
      "('grasps file is loaded', 173)\n",
      "('grasp_metrics file is loaded', 173)\n",
      "1142\n",
      "1111\n",
      "2307\n",
      "2338\n",
      "(3208, 3449)\n"
     ]
    }
   ],
   "source": [
    "DATA_DIR = \"/home/scarab6/Desktop/gqcnn/data/training/example_pj\"\n",
    "dataset = TensorDataset(DATA_DIR)\n",
    "true, total = error_rate_in_batches(gqcnn, dataset, validation_set=True)\n",
    "print(true, total)"
=======
    "from gqcnn_network import GQCNN, reset_graph\n",
    "gqcnn = GQCNN(is_training=True, reuse=True, gpu_mode=True)\n",
    "reset_graph()\n",
    "param, param_shape, param_name = gqcnn.get_model_params()\n",
    "print(param, param_shape, param_name)"
>>>>>>> d50452e82653da6fc8a059471974df4f57f72e37
   ]
  },
  {
   "cell_type": "code",
<<<<<<< HEAD
   "execution_count": 3,
   "metadata": {},
   "outputs": [
    {
     "name": "stdout",
     "output_type": "stream",
     "text": [
      "0.0698753261815\n"
     ]
    }
   ],
   "source": [
    "print(1 - float(true) / total)"
   ]
=======
   "execution_count": null,
   "metadata": {},
   "outputs": [],
   "source": []
>>>>>>> d50452e82653da6fc8a059471974df4f57f72e37
  }
 ],
 "metadata": {
  "kernelspec": {
<<<<<<< HEAD
   "display_name": "Python 2",
   "language": "python",
   "name": "python2"
=======
   "display_name": "Python 3",
   "language": "python",
   "name": "python3"
>>>>>>> d50452e82653da6fc8a059471974df4f57f72e37
  },
  "language_info": {
   "codemirror_mode": {
    "name": "ipython",
<<<<<<< HEAD
    "version": 2
=======
    "version": 3
>>>>>>> d50452e82653da6fc8a059471974df4f57f72e37
   },
   "file_extension": ".py",
   "mimetype": "text/x-python",
   "name": "python",
   "nbconvert_exporter": "python",
<<<<<<< HEAD
   "pygments_lexer": "ipython2",
   "version": "2.7.12"
=======
   "pygments_lexer": "ipython3",
   "version": "3.5.2"
>>>>>>> d50452e82653da6fc8a059471974df4f57f72e37
  }
 },
 "nbformat": 4,
 "nbformat_minor": 2
}
