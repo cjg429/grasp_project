{
 "cells": [
  {
   "cell_type": "code",
   "execution_count": 1,
   "metadata": {},
   "outputs": [
    {
     "name": "stdout",
     "output_type": "stream",
     "text": [
      "INFO:tensorflow:Model using gpu.\n"
     ]
    }
   ],
   "source": [
    "import numpy as np\n",
    "import matplotlib.pyplot as plt\n",
    "import cv2\n",
    "from gqcnn_network import GQCNN, reset_graph\n",
    "from gqcnn_train import TensorDataset\n",
    "gqcnn = GQCNN(is_training=False, reuse=True, gpu_mode=True)\n",
    "gqcnn.load_json(\"tf_gqcnn/gqcnn_raw2.json\")\n",
    "filename = \"/home/cjg429/Desktop/gqcnn-master/data/examples/single_object/primesense/depth_0.npy\"\n",
    "raw_data = np.load(filename)\n",
    "img_cv = cv2.resize(raw_data, (320, 240))"
   ]
  },
  {
   "cell_type": "code",
   "execution_count": 2,
   "metadata": {
    "scrolled": false
   },
   "outputs": [
    {
     "data": {
      "image/png": "[encoded data removed]",
      "text/plain": [
       "<Figure size 432x288 with 1 Axes>"
      ]
     },
     "metadata": {},
     "output_type": "display_data"
    }
   ],
   "source": [
    "small_data = np.asarray(img_cv)\n",
    "width = 240\n",
    "height = 320\n",
    "input_im_list = []\n",
    "input_pose_list = []\n",
    "for x in range(0, width - 96, 10):\n",
    "    for y in range(0, height - 96, 10):\n",
    "        crop_data = small_data[x:x + 96, y:y + 96]\n",
    "        center_depth = crop_data[48, 48]\n",
    "        input_im_list.append(crop_data)\n",
    "        input_pose_list.append(center_depth)\n",
    "images = np.asarray(input_im_list).reshape(-1, 96, 96, 1)\n",
    "poses = np.asarray(input_pose_list).reshape(-1, 1)\n",
    "predictions = gqcnn.predict(images, poses)\n",
    "best_index = np.argmax(predictions[:, 1])\n",
    "plt.imshow(images[best_index, :, :, 0], cmap='gray', vmin=0, vmax=1)\n",
    "plt.show()\n",
    "#print(predictions)\n",
    "#print(poses[best_index], best_index, predictions[best_index])"
   ]
  },
  {
   "cell_type": "code",
   "execution_count": null,
   "metadata": {},
   "outputs": [],
   "source": [
    "DATA_DIR = \"/home/cjg429/Desktop/gqcnn-master/data/training/example_pj/tensors\"\n",
    "dataset = TensorDataset(DATA_DIR)\n",
    "images, poses, labels = dataset.sample(norm_inputs=True)\n",
    "'''predictions = gqcnn.predict(images, poses)\n",
    "print(labels, predictions)\n",
    "print(labels, np.argmax(predictions, axis=1))'''\n",
    "true_label = np.argwhere(labels > 0).squeeze()\n",
    "print(images[true_label].shape, poses[true_label].shape, labels[true_label].shape)\n",
    "predictions = gqcnn.predict(images[true_label], poses[true_label])\n",
    "print(predictions, labels[true_label])\n",
    "for i in range(images[true_label].shape[0]):\n",
    "    plt.imshow(images[true_label][i, :, :, 0], cmap='gray')\n",
    "    plt.show()\n",
    "    print(poses[true_label][i])"
   ]
  },
  {
   "cell_type": "code",
   "execution_count": null,
   "metadata": {},
   "outputs": [],
   "source": [
    "images, poses, labels = dataset.sample(norm_inputs=False)\n",
    "true_label = np.argwhere(labels > 0).squeeze()\n",
    "for i in range(images[true_label].shape[0]):\n",
    "    plt.imshow(images[true_label][i, :, :, 0], cmap='gray')\n",
    "    plt.show()\n",
    "    print(poses[true_label][i])"
   ]
  },
  {
   "cell_type": "code",
   "execution_count": null,
   "metadata": {},
   "outputs": [],
   "source": [
    "import os\n",
    "import numpy as np\n",
    "model_dir = \"/home/cjg429/Desktop/gqcnn-master/data/training/data/training/mini-dexnet_fc_pj_10_02_18/grasps\"\n",
    "im_mean_filename = os.path.join(model_dir, 'im_mean.npy')\n",
    "im_std_filename = os.path.join(model_dir, 'im_std.npy')\n",
    "im_mean = np.load(im_mean_filename)\n",
    "im_std = np.load(im_std_filename)\n",
    "print(im_mean, im_std)"
   ]
  },
  {
   "cell_type": "code",
   "execution_count": null,
   "metadata": {},
   "outputs": [],
   "source": [
    "\n",
    "pose_mean_filename = os.path.join(model_dir, 'pose_mean.npy')\n",
    "pose_std_filename = os.path.join(model_dir, 'pose_std.npy')\n",
    "pose_mean = np.load(pose_mean_filename)\n",
    "pose_std = np.load(pose_std_filename)\n",
    "print(pose_mean, pose_std)"
   ]
  },
  {
   "cell_type": "code",
   "execution_count": null,
   "metadata": {},
   "outputs": [],
   "source": []
  }
 ],
 "metadata": {
  "kernelspec": {
   "display_name": "Python 2",
   "language": "python",
   "name": "python2"
  },
  "language_info": {
   "codemirror_mode": {
    "name": "ipython",
    "version": 2
   },
   "file_extension": ".py",
   "mimetype": "text/x-python",
   "name": "python",
   "nbconvert_exporter": "python",
   "pygments_lexer": "ipython2",
   "version": "2.7.15"
  }
 },
 "nbformat": 4,
 "nbformat_minor": 2
}
