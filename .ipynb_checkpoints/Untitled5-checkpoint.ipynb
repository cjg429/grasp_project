{
 "cells": [
  {
   "cell_type": "code",
   "execution_count": 1,
   "metadata": {},
   "outputs": [
    {
     "name": "stdout",
     "output_type": "stream",
     "text": [
      "INFO:tensorflow:Model using gpu.\n"
     ]
    }
   ],
   "source": [
    "import numpy as np\n",
    "import json\n",
    "from gqcnn_network import GQCNN, reset_graph\n",
    "from gqcnn_train import TensorDataset, error_rate_in_batches\n",
    "gqcnn = GQCNN(is_training=True, reuse=True, gpu_mode=True)\n",
    "gqcnn.load_model(\"gqcnn_org\")"
   ]
  },
  {
   "cell_type": "code",
   "execution_count": 2,
   "metadata": {},
   "outputs": [
    {
     "name": "stdout",
     "output_type": "stream",
     "text": [
      "tf_depth_ims file is loaded 173\n",
      "grasps file is loaded 173\n",
      "grasp_metrics file is loaded 173\n",
      "1142\n",
      "1111\n",
      "2307\n",
      "2338\n",
      "3208 3449\n",
      "0.06987532618150194\n"
     ]
    }
   ],
   "source": [
    "DATA_DIR = \"/home/scarab6/Desktop/gqcnn/data/training/example_pj\"\n",
    "dataset = TensorDataset(DATA_DIR)\n",
    "true, total = error_rate_in_batches(gqcnn, dataset, validation_set=True)\n",
    "print(true, total)\n",
    "print(1 - float(true) / total)"
   ]
  },
  {
   "cell_type": "code",
   "execution_count": null,
   "metadata": {},
   "outputs": [],
   "source": []
  }
 ],
 "metadata": {
  "kernelspec": {
   "display_name": "Python 3",
   "language": "python",
   "name": "python3"
  },
  "language_info": {
   "codemirror_mode": {
    "name": "ipython",
    "version": 3
   },
   "file_extension": ".py",
   "mimetype": "text/x-python",
   "name": "python",
   "nbconvert_exporter": "python",
   "pygments_lexer": "ipython3",
   "version": "3.5.2"
  }
 },
 "nbformat": 4,
 "nbformat_minor": 2
}
