{
 "cells": [
  {
   "cell_type": "code",
   "execution_count": 1,
   "metadata": {},
   "outputs": [],
   "source": [
    "import analyzer\n",
    "import json\n",
    "import os\n",
    "anal = analyzer.GQCNNAnalyzer()\n",
    "#anal.analyze()"
   ]
  },
  {
   "cell_type": "code",
   "execution_count": 2,
   "metadata": {},
   "outputs": [],
   "source": [
    "class Image(object):\n",
    "    def __init__(self, data, frame='unspecified'):\n",
    "        if not isinstance(data, np.ndarray):\n",
    "            raise ValueError('Must initialize image with a numpy ndarray')\n",
    "        if not isinstance(frame, six.string_types):\n",
    "            raise ValueError('Must provide string name of frame of data')\n",
    "\n",
    "        self._check_valid_data(data)\n",
    "        self._data = self._preprocess_data(data)\n",
    "        self._frame = frame\n",
    "        self._encoding = 'passthrough'\n",
    "\n",
    "class DepthImage(Image):\n",
    "    def __init__(self, data, frame='unspecified'):\n",
    "        Image.__init__(self, data, frame)\n",
    "        self._data = self._data.astype(np.float32)\n",
    "        self._data[np.isnan(self._data)] = 0.0\n",
    "        self._encoding = 'passthrough'"
   ]
  },
  {
   "cell_type": "code",
   "execution_count": 3,
   "metadata": {},
   "outputs": [],
   "source": [
    "class CameraIntrinsics(object):\n",
    "    def __init__(self, frame, fx, fy=None, cx=0.0, cy=0.0, skew=0.0, height=None, width=None):\n",
    "        \"\"\"Initialize a CameraIntrinsics model.\n",
    "        Parameters\n",
    "        ----------\n",
    "        frame : :obj:`str`\n",
    "            The frame of reference for the point cloud.\n",
    "        fx : float\n",
    "            The x-axis focal length of the camera in pixels.\n",
    "        fy : float\n",
    "            The y-axis focal length of the camera in pixels.\n",
    "        cx : float\n",
    "            The x-axis optical center of the camera in pixels.\n",
    "        cy : float\n",
    "            The y-axis optical center of the camera in pixels.\n",
    "        skew : float\n",
    "            The skew of the camera in pixels.\n",
    "        height : float\n",
    "            The height of the camera image in pixels.\n",
    "        width : float\n",
    "            The width of the camera image in pixels\n",
    "        \"\"\"\n",
    "        self._frame = frame\n",
    "        self._fx = float(fx)\n",
    "        self._fy = float(fy)\n",
    "        self._cx = float(cx)\n",
    "        self._cy = float(cy)\n",
    "        self._skew = float(skew)\n",
    "        self._height = int(height)\n",
    "        self._width = int(width)\n",
    "\n",
    "        # set focal, camera center automatically if under specified\n",
    "        if fy is None:\n",
    "            self._fy = fx\n",
    "\n",
    "        # set camera projection matrix\n",
    "        self._K = np.array([[self._fx, self._skew, self._cx],\n",
    "                            [       0,   self._fy, self._cy],\n",
    "                            [ 0, 0, 1]])\n",
    "\n",
    "def load(filename):\n",
    "    f = open(filename, 'r')\n",
    "    ci = json.load(f)\n",
    "    f.close()\n",
    "    return CameraIntrinsics(frame=ci['_frame'], fx=ci['_fx'],\n",
    "                            fy=ci['_fy'], cx=ci['_cx'],\n",
    "                            cy=ci['_cy'], skew=ci['_skew'],\n",
    "                            height=ci['_height'], width=ci['_width'])"
   ]
  },
  {
   "cell_type": "code",
   "execution_count": 4,
   "metadata": {},
   "outputs": [
    {
     "name": "stdout",
     "output_type": "stream",
     "text": [
      "<__main__.CameraIntrinsics object at 0x7fc5a67381d0>\n",
      "(480, 640, 1)\n"
     ]
    }
   ],
   "source": [
    "import numpy as np\n",
    "filename = \"/home/cjg429/Desktop/gqcnn-master/data/examples/single_object/primesense/depth_0.npy\"\n",
    "raw_data = np.load(filename)\n",
    "camera_intr_filename = \"/home/cjg429/Desktop/gqcnn-master/data/calib/primesense/primesense.intr\"\n",
    "camera_intr = load(camera_intr_filename)\n",
    "print(camera_intr)\n",
    "print(raw_data.shape)"
   ]
  },
  {
   "cell_type": "code",
   "execution_count": 7,
   "metadata": {},
   "outputs": [
    {
     "data": {
      "image/png": "[encoded data removed]",
      "text/plain": [
       "<Figure size 432x288 with 1 Axes>"
      ]
     },
     "metadata": {},
     "output_type": "display_data"
    }
   ],
   "source": [
    "def inpaint(self, rescale_factor=1.0):\n",
    "        \"\"\" Fills in the zero pixels in the image.\n",
    "        Parameters\n",
    "        ----------\n",
    "        rescale_factor : float\n",
    "            amount to rescale the image for inpainting, smaller numbers increase speed\n",
    "        Returns\n",
    "        -------\n",
    "        :obj:`DepthImage`\n",
    "            depth image with zero pixels filled in\n",
    "        \"\"\"\n",
    "        # get original shape\n",
    "        orig_shape = (self.height, self.width)\n",
    "\n",
    "        # form inpaint kernel\n",
    "        inpaint_kernel = np.array([[1, 1, 1], [1, 0, 1], [1, 1, 1]])\n",
    "\n",
    "        # resize the image\n",
    "        resized_data = self.resize(rescale_factor, interp='nearest').data\n",
    "\n",
    "        # inpaint the smaller image\n",
    "        cur_data = resized_data.copy()\n",
    "        zeros = (cur_data == 0)\n",
    "        while np.any(zeros):\n",
    "            neighbors = ssg.convolve2d((cur_data != 0), inpaint_kernel,\n",
    "                                       mode='same', boundary='symm')\n",
    "            avg_depth = ssg.convolve2d(cur_data, inpaint_kernel,\n",
    "                                       mode='same', boundary='symm')\n",
    "            avg_depth[neighbors > 0] = avg_depth[neighbors > 0] / \\\n",
    "                neighbors[neighbors > 0]\n",
    "            avg_depth[neighbors == 0] = 0\n",
    "            avg_depth[resized_data > 0] = resized_data[resized_data > 0]\n",
    "            cur_data = avg_depth\n",
    "            zeros = (cur_data == 0)\n",
    "\n",
    "        # fill in zero pixels with inpainted and resized image\n",
    "        inpainted_im = DepthImage(cur_data, frame=self.frame)\n",
    "        filled_data = inpainted_im.resize(\n",
    "            orig_shape, interp='bilinear').data\n",
    "        new_data = np.copy(self.data)\n",
    "        new_data[self.data == 0] = filled_data[self.data == 0]\n",
    "return DepthImage(new_data, frame=self.frame)\n",
    "\n",
    "\n",
    "inpaint_rescale_factor = 0.5\n",
    "import matplotlib.pyplot as plt\n",
    "plt.imshow(raw_data[:, :, 0], cmap='gray')\n",
    "plt.show()"
   ]
  },
  {
   "cell_type": "code",
   "execution_count": null,
   "metadata": {},
   "outputs": [],
   "source": []
  }
 ],
 "metadata": {
  "kernelspec": {
   "display_name": "Python 2",
   "language": "python",
   "name": "python2"
  },
  "language_info": {
   "codemirror_mode": {
    "name": "ipython",
    "version": 2
   },
   "file_extension": ".py",
   "mimetype": "text/x-python",
   "name": "python",
   "nbconvert_exporter": "python",
   "pygments_lexer": "ipython2",
   "version": "2.7.15"
  }
 },
 "nbformat": 4,
 "nbformat_minor": 2
}
