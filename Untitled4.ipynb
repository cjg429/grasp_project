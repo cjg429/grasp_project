{
 "cells": [
  {
   "cell_type": "code",
   "execution_count": 1,
   "metadata": {},
   "outputs": [
    {
     "ename": "ImportError",
     "evalue": "No module named numpy",
     "output_type": "error",
     "traceback": [
      "\u001b[0;31m---------------------------------------------------------------------------\u001b[0m",
      "\u001b[0;31mImportError\u001b[0m                               Traceback (most recent call last)",
      "\u001b[0;32m<ipython-input-1-877af65e3490>\u001b[0m in \u001b[0;36m<module>\u001b[0;34m()\u001b[0m\n\u001b[0;32m----> 1\u001b[0;31m \u001b[0;32mimport\u001b[0m \u001b[0mnumpy\u001b[0m \u001b[0;32mas\u001b[0m \u001b[0mnp\u001b[0m\u001b[0;34m\u001b[0m\u001b[0m\n\u001b[0m\u001b[1;32m      2\u001b[0m \u001b[0;32mimport\u001b[0m \u001b[0mtensorflow\u001b[0m \u001b[0;32mas\u001b[0m \u001b[0mtf\u001b[0m\u001b[0;34m\u001b[0m\u001b[0m\n\u001b[1;32m      3\u001b[0m \u001b[0;32mimport\u001b[0m \u001b[0mtensorflow\u001b[0m\u001b[0;34m.\u001b[0m\u001b[0mcontrib\u001b[0m\u001b[0;34m.\u001b[0m\u001b[0mframework\u001b[0m \u001b[0;32mas\u001b[0m \u001b[0mtcf\u001b[0m\u001b[0;34m\u001b[0m\u001b[0m\n\u001b[1;32m      4\u001b[0m \u001b[0mckpt_file\u001b[0m \u001b[0;34m=\u001b[0m \u001b[0;34m\"/home/cjg429/Desktop/gqcnn-master/models/gqcnn_example_pj/model.ckpt\"\u001b[0m\u001b[0;34m\u001b[0m\u001b[0m\n\u001b[1;32m      5\u001b[0m \u001b[0mreader\u001b[0m \u001b[0;34m=\u001b[0m \u001b[0mtf\u001b[0m\u001b[0;34m.\u001b[0m\u001b[0mtrain\u001b[0m\u001b[0;34m.\u001b[0m\u001b[0mNewCheckpointReader\u001b[0m\u001b[0;34m(\u001b[0m\u001b[0mckpt_file\u001b[0m\u001b[0;34m)\u001b[0m\u001b[0;34m\u001b[0m\u001b[0m\n",
      "\u001b[0;31mImportError\u001b[0m: No module named numpy"
     ]
    }
   ],
   "source": [
    "import numpy as np\n",
    "import tensorflow as tf\n",
    "import tensorflow.contrib.framework as tcf\n",
    "ckpt_file = \"/home/cjg429/Desktop/gqcnn-master/models/gqcnn_example_pj/model.ckpt\"\n",
    "reader = tf.train.NewCheckpointReader(ckpt_file)\n",
    "# read/generate weight/bias variable names\n",
    "ckpt_vars = tcf.list_variables(ckpt_file)\n",
    "full_var_names = []\n",
    "short_names = []\n",
    "weights = {}\n",
    "for variable, shape in ckpt_vars:\n",
    "    full_var_names.append(variable)\n",
    "    short_names.append(variable.split('/')[-1])\n",
    "# load variables\n",
    "for full_var_name, short_name in zip(full_var_names, short_names):\n",
    "    weights[short_name] = tf.Variable(reader.get_tensor(full_var_name), name=full_var_name)\n",
    "    print(weights[short_name])\n",
    "sess = tf.Session()\n",
    "init_op = tf.global_variables_initializer() \n",
    "sess.run(init_op)\n",
    "for full_var_name, short_name in zip(full_var_names, short_names):    \n",
    "    print(sess.run(weights[short_name]))"
   ]
  },
  {
   "cell_type": "code",
   "execution_count": null,
   "metadata": {},
   "outputs": [],
   "source": [
    "from gqcnn_network import GQCNN, reset_graph\n",
    "gqcnn = GQCNN(is_training=True, reuse=True, gpu_mode=True)\n",
    "param, param_shape, param_name = gqcnn.get_model_params()\n",
    "print(param, param_shape, param_name)"
   ]
  },
  {
   "cell_type": "code",
   "execution_count": null,
   "metadata": {},
   "outputs": [],
   "source": []
  }
 ],
 "metadata": {
  "kernelspec": {
   "display_name": "Python 2",
   "language": "python",
   "name": "python2"
  },
  "language_info": {
   "codemirror_mode": {
    "name": "ipython",
    "version": 2
   },
   "file_extension": ".py",
   "mimetype": "text/x-python",
   "name": "python",
   "nbconvert_exporter": "python",
   "pygments_lexer": "ipython2",
   "version": "2.7.15"
  }
 },
 "nbformat": 4,
 "nbformat_minor": 2
}
